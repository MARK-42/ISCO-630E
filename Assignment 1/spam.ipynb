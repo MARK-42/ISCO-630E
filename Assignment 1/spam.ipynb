{
 "cells": [
  {
   "cell_type": "code",
   "execution_count": 1,
   "metadata": {},
   "outputs": [],
   "source": [
    "import numpy as np\n",
    "import pandas as pd\n",
    "import matplotlib.pyplot as plt\n",
    "import seaborn as sns\n",
    "#%matplotlib inline\n",
    "# Styles\n",
    "plt.style.use('ggplot')\n",
    "sns.set_style('whitegrid')\n",
    "# Text Preprocessing\n",
    "import nltk\n",
    "from nltk.corpus import stopwords\n",
    "import string\n",
    "from nltk.tokenize import word_tokenize"
   ]
  },
  {
   "cell_type": "code",
   "execution_count": 2,
   "metadata": {},
   "outputs": [
    {
     "data": {
      "text/html": [
       "<div>\n",
       "<style scoped>\n",
       "    .dataframe tbody tr th:only-of-type {\n",
       "        vertical-align: middle;\n",
       "    }\n",
       "\n",
       "    .dataframe tbody tr th {\n",
       "        vertical-align: top;\n",
       "    }\n",
       "\n",
       "    .dataframe thead th {\n",
       "        text-align: right;\n",
       "    }\n",
       "</style>\n",
       "<table border=\"1\" class=\"dataframe\">\n",
       "  <thead>\n",
       "    <tr style=\"text-align: right;\">\n",
       "      <th></th>\n",
       "      <th>v1</th>\n",
       "      <th>v2</th>\n",
       "    </tr>\n",
       "  </thead>\n",
       "  <tbody>\n",
       "    <tr>\n",
       "      <td>0</td>\n",
       "      <td>ham</td>\n",
       "      <td>Go until jurong point, crazy.. Available only ...</td>\n",
       "    </tr>\n",
       "    <tr>\n",
       "      <td>1</td>\n",
       "      <td>ham</td>\n",
       "      <td>Ok lar... Joking wif u oni...</td>\n",
       "    </tr>\n",
       "    <tr>\n",
       "      <td>2</td>\n",
       "      <td>spam</td>\n",
       "      <td>Free entry in 2 a wkly comp to win FA Cup fina...</td>\n",
       "    </tr>\n",
       "    <tr>\n",
       "      <td>3</td>\n",
       "      <td>ham</td>\n",
       "      <td>U dun say so early hor... U c already then say...</td>\n",
       "    </tr>\n",
       "    <tr>\n",
       "      <td>4</td>\n",
       "      <td>ham</td>\n",
       "      <td>Nah I don't think he goes to usf, he lives aro...</td>\n",
       "    </tr>\n",
       "  </tbody>\n",
       "</table>\n",
       "</div>"
      ],
      "text/plain": [
       "     v1                                                 v2\n",
       "0   ham  Go until jurong point, crazy.. Available only ...\n",
       "1   ham                      Ok lar... Joking wif u oni...\n",
       "2  spam  Free entry in 2 a wkly comp to win FA Cup fina...\n",
       "3   ham  U dun say so early hor... U c already then say...\n",
       "4   ham  Nah I don't think he goes to usf, he lives aro..."
      ]
     },
     "execution_count": 2,
     "metadata": {},
     "output_type": "execute_result"
    }
   ],
   "source": [
    "dataset = pd.read_csv(\"spam.csv\",encoding='latin-1')\n",
    "dataset = dataset[[\"v1\",\"v2\"]]\n",
    "dataset.head()"
   ]
  },
  {
   "cell_type": "code",
   "execution_count": 3,
   "metadata": {},
   "outputs": [
    {
     "data": {
      "text/html": [
       "<div>\n",
       "<style scoped>\n",
       "    .dataframe tbody tr th:only-of-type {\n",
       "        vertical-align: middle;\n",
       "    }\n",
       "\n",
       "    .dataframe tbody tr th {\n",
       "        vertical-align: top;\n",
       "    }\n",
       "\n",
       "    .dataframe thead th {\n",
       "        text-align: right;\n",
       "    }\n",
       "</style>\n",
       "<table border=\"1\" class=\"dataframe\">\n",
       "  <thead>\n",
       "    <tr style=\"text-align: right;\">\n",
       "      <th></th>\n",
       "      <th>label</th>\n",
       "      <th>text</th>\n",
       "    </tr>\n",
       "  </thead>\n",
       "  <tbody>\n",
       "    <tr>\n",
       "      <td>0</td>\n",
       "      <td>ham</td>\n",
       "      <td>Go until jurong point, crazy.. Available only ...</td>\n",
       "    </tr>\n",
       "    <tr>\n",
       "      <td>1</td>\n",
       "      <td>ham</td>\n",
       "      <td>Ok lar... Joking wif u oni...</td>\n",
       "    </tr>\n",
       "    <tr>\n",
       "      <td>2</td>\n",
       "      <td>spam</td>\n",
       "      <td>Free entry in 2 a wkly comp to win FA Cup fina...</td>\n",
       "    </tr>\n",
       "    <tr>\n",
       "      <td>3</td>\n",
       "      <td>ham</td>\n",
       "      <td>U dun say so early hor... U c already then say...</td>\n",
       "    </tr>\n",
       "    <tr>\n",
       "      <td>4</td>\n",
       "      <td>ham</td>\n",
       "      <td>Nah I don't think he goes to usf, he lives aro...</td>\n",
       "    </tr>\n",
       "  </tbody>\n",
       "</table>\n",
       "</div>"
      ],
      "text/plain": [
       "  label                                               text\n",
       "0   ham  Go until jurong point, crazy.. Available only ...\n",
       "1   ham                      Ok lar... Joking wif u oni...\n",
       "2  spam  Free entry in 2 a wkly comp to win FA Cup fina...\n",
       "3   ham  U dun say so early hor... U c already then say...\n",
       "4   ham  Nah I don't think he goes to usf, he lives aro..."
      ]
     },
     "execution_count": 3,
     "metadata": {},
     "output_type": "execute_result"
    }
   ],
   "source": [
    "\n",
    "dataset = dataset.rename(columns={\"v1\":\"label\",\"v2\":\"text\"})\n",
    "dataset.head()\n"
   ]
  },
  {
   "cell_type": "code",
   "execution_count": 4,
   "metadata": {},
   "outputs": [
    {
     "name": "stdout",
     "output_type": "stream",
     "text": [
      "<class 'pandas.core.frame.DataFrame'>\n",
      "RangeIndex: 5572 entries, 0 to 5571\n",
      "Data columns (total 2 columns):\n",
      "label    5572 non-null object\n",
      "text     5572 non-null object\n",
      "dtypes: object(2)\n",
      "memory usage: 87.2+ KB\n",
      "None\n",
      "ham     4825\n",
      "spam     747\n",
      "Name: label, dtype: int64\n"
     ]
    }
   ],
   "source": [
    "print(dataset.info())\n",
    "print(dataset.label.value_counts())"
   ]
  },
  {
   "cell_type": "code",
   "execution_count": 5,
   "metadata": {},
   "outputs": [
    {
     "data": {
      "image/png": "[encoded data removed]",
      "text/plain": [
       "<Figure size 432x432 with 1 Axes>"
      ]
     },
     "metadata": {},
     "output_type": "display_data"
    }
   ],
   "source": [
    "dataset[\"label\"].value_counts().plot(kind = 'pie', explode = [0, 0.1], figsize = (6, 6), autopct = '%1.1f%%', shadow = True)\n",
    "plt.ylabel(\"Spam vs Ham\")\n",
    "plt.legend([\"Ham\", \"Spam\"])\n",
    "plt.show()\n"
   ]
  },
  {
   "cell_type": "code",
   "execution_count": 6,
   "metadata": {},
   "outputs": [
    {
     "data": {
      "text/html": [
       "<div>\n",
       "<style scoped>\n",
       "    .dataframe tbody tr th:only-of-type {\n",
       "        vertical-align: middle;\n",
       "    }\n",
       "\n",
       "    .dataframe tbody tr th {\n",
       "        vertical-align: top;\n",
       "    }\n",
       "\n",
       "    .dataframe thead th {\n",
       "        text-align: right;\n",
       "    }\n",
       "</style>\n",
       "<table border=\"1\" class=\"dataframe\">\n",
       "  <thead>\n",
       "    <tr style=\"text-align: right;\">\n",
       "      <th></th>\n",
       "      <th>len</th>\n",
       "      <th>amax</th>\n",
       "    </tr>\n",
       "    <tr>\n",
       "      <th>text</th>\n",
       "      <th></th>\n",
       "      <th></th>\n",
       "    </tr>\n",
       "  </thead>\n",
       "  <tbody>\n",
       "    <tr>\n",
       "      <td>Sorry, I'll call later</td>\n",
       "      <td>30</td>\n",
       "      <td>ham</td>\n",
       "    </tr>\n",
       "    <tr>\n",
       "      <td>I cant pick the phone right now. Pls send a message</td>\n",
       "      <td>12</td>\n",
       "      <td>ham</td>\n",
       "    </tr>\n",
       "    <tr>\n",
       "      <td>Ok...</td>\n",
       "      <td>10</td>\n",
       "      <td>ham</td>\n",
       "    </tr>\n",
       "    <tr>\n",
       "      <td>Your opinion about me? 1. Over 2. Jada 3. Kusruthi 4. Lovable 5. Silent 6. Spl character 7. Not matured 8. Stylish 9. Simple Pls reply..</td>\n",
       "      <td>4</td>\n",
       "      <td>ham</td>\n",
       "    </tr>\n",
       "    <tr>\n",
       "      <td>Wen ur lovable bcums angry wid u, dnt take it seriously.. Coz being angry is d most childish n true way of showing deep affection, care n luv!.. kettoda manda... Have nice day da.</td>\n",
       "      <td>4</td>\n",
       "      <td>ham</td>\n",
       "    </tr>\n",
       "    <tr>\n",
       "      <td>Please call our customer service representative on FREEPHONE 0808 145 4742 between 9am-11pm as you have WON a guaranteed å£1000 cash or å£5000 prize!</td>\n",
       "      <td>4</td>\n",
       "      <td>spam</td>\n",
       "    </tr>\n",
       "    <tr>\n",
       "      <td>Okie</td>\n",
       "      <td>4</td>\n",
       "      <td>ham</td>\n",
       "    </tr>\n",
       "    <tr>\n",
       "      <td>Say this slowly.? GOD,I LOVE YOU &amp;amp; I NEED YOU,CLEAN MY HEART WITH YOUR BLOOD.Send this to Ten special people &amp;amp; u c miracle tomorrow, do it,pls,pls do it...</td>\n",
       "      <td>4</td>\n",
       "      <td>ham</td>\n",
       "    </tr>\n",
       "    <tr>\n",
       "      <td>7 wonders in My WORLD 7th You 6th Ur style 5th Ur smile 4th Ur Personality 3rd Ur Nature 2nd Ur SMS and 1st \\Ur Lovely Friendship\\\"... good morning dear\"</td>\n",
       "      <td>4</td>\n",
       "      <td>ham</td>\n",
       "    </tr>\n",
       "    <tr>\n",
       "      <td>Ok.</td>\n",
       "      <td>4</td>\n",
       "      <td>ham</td>\n",
       "    </tr>\n",
       "  </tbody>\n",
       "</table>\n",
       "</div>"
      ],
      "text/plain": [
       "                                                    len  amax\n",
       "text                                                         \n",
       "Sorry, I'll call later                               30   ham\n",
       "I cant pick the phone right now. Pls send a mes...   12   ham\n",
       "Ok...                                                10   ham\n",
       "Your opinion about me? 1. Over 2. Jada 3. Kusru...    4   ham\n",
       "Wen ur lovable bcums angry wid u, dnt take it s...    4   ham\n",
       "Please call our customer service representative...    4  spam\n",
       "Okie                                                  4   ham\n",
       "Say this slowly.? GOD,I LOVE YOU &amp; I NEED Y...    4   ham\n",
       "7 wonders in My WORLD 7th You 6th Ur style 5th ...    4   ham\n",
       "Ok.                                                   4   ham"
      ]
     },
     "metadata": {},
     "output_type": "display_data"
    }
   ],
   "source": [
    "topMessages = dataset.groupby(\"text\")[\"label\"].agg([len, np.max]).sort_values(by = \"len\", ascending = False).head(n = 10)\n",
    "display(topMessages)\n",
    "dataset.drop_duplicates(keep=False, inplace=True)\n"
   ]
  },
  {
   "cell_type": "code",
   "execution_count": 7,
   "metadata": {},
   "outputs": [
    {
     "name": "stdout",
     "output_type": "stream",
     "text": [
      "(4888, 2)\n"
     ]
    },
    {
     "data": {
      "text/html": [
       "<div>\n",
       "<style scoped>\n",
       "    .dataframe tbody tr th:only-of-type {\n",
       "        vertical-align: middle;\n",
       "    }\n",
       "\n",
       "    .dataframe tbody tr th {\n",
       "        vertical-align: top;\n",
       "    }\n",
       "\n",
       "    .dataframe thead th {\n",
       "        text-align: right;\n",
       "    }\n",
       "</style>\n",
       "<table border=\"1\" class=\"dataframe\">\n",
       "  <thead>\n",
       "    <tr style=\"text-align: right;\">\n",
       "      <th></th>\n",
       "      <th>label</th>\n",
       "      <th>text</th>\n",
       "    </tr>\n",
       "  </thead>\n",
       "  <tbody>\n",
       "    <tr>\n",
       "      <td>0</td>\n",
       "      <td>ham</td>\n",
       "      <td>go jurong point crazi avail bugi n great world...</td>\n",
       "    </tr>\n",
       "    <tr>\n",
       "      <td>1</td>\n",
       "      <td>ham</td>\n",
       "      <td>ok lar joke wif u oni</td>\n",
       "    </tr>\n",
       "    <tr>\n",
       "      <td>3</td>\n",
       "      <td>ham</td>\n",
       "      <td>u dun say earli hor u c alreadi say</td>\n",
       "    </tr>\n",
       "    <tr>\n",
       "      <td>4</td>\n",
       "      <td>ham</td>\n",
       "      <td>nah dont think goe usf live around though</td>\n",
       "    </tr>\n",
       "    <tr>\n",
       "      <td>5</td>\n",
       "      <td>spam</td>\n",
       "      <td>freemsg hey darl 3 week word back id like fun ...</td>\n",
       "    </tr>\n",
       "  </tbody>\n",
       "</table>\n",
       "</div>"
      ],
      "text/plain": [
       "  label                                               text\n",
       "0   ham  go jurong point crazi avail bugi n great world...\n",
       "1   ham                              ok lar joke wif u oni\n",
       "3   ham                u dun say earli hor u c alreadi say\n",
       "4   ham          nah dont think goe usf live around though\n",
       "5  spam  freemsg hey darl 3 week word back id like fun ..."
      ]
     },
     "execution_count": 7,
     "metadata": {},
     "output_type": "execute_result"
    }
   ],
   "source": [
    "print(dataset.shape)\n",
    "from nltk.stem import SnowballStemmer\n",
    "stemmer = SnowballStemmer(\"english\")\n",
    "\n",
    "\n",
    "\n",
    "def cleanText(message):\n",
    "    message = message.translate(str.maketrans('', '', string.punctuation))\n",
    "    words = [stemmer.stem(word) for word in message.split() if word.lower() not in stopwords.words(\"english\")]\n",
    "    return \" \".join(words)\n",
    "\n",
    "\n",
    "dataset[\"text\"] = dataset[\"text\"].apply(cleanText)\n",
    "dataset = dataset[[\"label\",\"text\"]]\n",
    "dataset.head()"
   ]
  },
  {
   "cell_type": "code",
   "execution_count": 8,
   "metadata": {},
   "outputs": [
    {
     "name": "stdout",
     "output_type": "stream",
     "text": [
      "   label                                               text\n",
      "1    ham                              ok lar joke wif u oni\n",
      "4    ham          nah dont think goe usf live around though\n",
      "5   spam  freemsg hey darl 3 week word back id like fun ...\n",
      "6    ham      even brother like speak treat like aid patent\n",
      "13   ham  ive search right word thank breather promis wo...\n",
      "   label                                               text\n",
      "0    ham  go jurong point crazi avail bugi n great world...\n",
      "3    ham                u dun say earli hor u c alreadi say\n",
      "10   ham  im gonna home soon dont want talk stuff anymor...\n",
      "15  spam  xxxmobilemovieclub use credit click wap link n...\n",
      "21   ham                    iû÷m go tri 2 month ha ha joke\n",
      "3958 930 3958 930\n"
     ]
    }
   ],
   "source": [
    "def train_test_split(dataset): \n",
    "    random_val_msk = np.random.rand(len(dataset)) <= 0.8\n",
    "    X_train = dataset[random_val_msk]\n",
    "    X_test = dataset[~random_val_msk]\n",
    "    return X_train, X_test\n",
    "\n",
    "dataset_train, dataset_test = train_test_split(dataset)\n",
    "print(dataset_train.head())\n",
    "print(dataset_test.head())\n",
    "\n",
    "mask = np.random.rand(len(dataset))<0.8\n",
    "text_train = dataset.text[mask].values\n",
    "text_test = dataset.text[~mask].values\n",
    "label_train = dataset.label[mask].values\n",
    "label_test = dataset.label[~mask].values\n",
    "print(len(text_train),len(text_test),len(label_train),len(label_test))"
   ]
  },
  {
   "cell_type": "code",
   "execution_count": 9,
   "metadata": {},
   "outputs": [
    {
     "data": {
      "text/plain": [
       "41"
      ]
     },
     "execution_count": 9,
     "metadata": {},
     "output_type": "execute_result"
    }
   ],
   "source": [
    "messages = dataset.text.values\n",
    "words_all = []\n",
    "for message in messages:\n",
    "    words_all += (message.split(\" \"))\n",
    "unique_words = set(words_all)\n",
    "dictionary_words = {i:words_all.count(i) for i in unique_words}\n",
    "dictionary_words['hello']"
   ]
  },
  {
   "cell_type": "code",
   "execution_count": 10,
   "metadata": {},
   "outputs": [
    {
     "data": {
      "text/plain": [
       "35"
      ]
     },
     "execution_count": 10,
     "metadata": {},
     "output_type": "execute_result"
    }
   ],
   "source": [
    "spam_messages = dataset.text.values[dataset.label == \"spam\"]\n",
    "spam_words = []\n",
    "for spam in spam_messages:\n",
    "    spam_words += (spam.split(\" \"))\n",
    "unique_spam_words = set(spam_words)\n",
    "dictionary_spam = {i:spam_words.count(i) for i in unique_spam_words}\n",
    "dictionary_spam['win']"
   ]
  },
  {
   "cell_type": "code",
   "execution_count": 11,
   "metadata": {},
   "outputs": [
    {
     "data": {
      "text/plain": [
       "194"
      ]
     },
     "execution_count": 11,
     "metadata": {},
     "output_type": "execute_result"
    }
   ],
   "source": [
    "ham_messages = dataset.text.values[dataset.label == \"ham\"]\n",
    "ham_words = []\n",
    "for ham in ham_messages:\n",
    "    ham_words += (ham.split(\" \"))\n",
    "unique_ham_words = set(ham_words)\n",
    "dictionary_ham = {i:ham_words.count(i) for i in unique_ham_words}\n",
    "dictionary_ham['love']\n"
   ]
  },
  {
   "cell_type": "code",
   "execution_count": 12,
   "metadata": {},
   "outputs": [
    {
     "name": "stdout",
     "output_type": "stream",
     "text": [
      "44161 9226 34935\n"
     ]
    }
   ],
   "source": [
    "total_words = len(words_all)\n",
    "total_spam = len(spam_words)\n",
    "total_ham = len(ham_words)\n",
    "print(total_words, total_spam, total_ham)"
   ]
  },
  {
   "cell_type": "code",
   "execution_count": 13,
   "metadata": {},
   "outputs": [],
   "source": [
    "def probability_word_given_spam(word):\n",
    "    return (dictionary_spam[word]/total_spam) \n",
    "def probability_word_given_ham(word):\n",
    "    return dictionary_ham[word]/total_ham \n",
    "def probability_word(word):\n",
    "    try:\n",
    "        return dictionary_words[word]/total_words\n",
    "    except KeyError:\n",
    "        return 0.000000001 \n",
    "def probability_of_message_being_spam(message):\n",
    "    num = den = 1\n",
    "    for word in message.split():\n",
    "        if word in spam_words:\n",
    "            num *= probability_word_given_spam(word)\n",
    "            den *= probability_word(word)\n",
    "    # This step ensures laplace smoothing \n",
    "    if den==0:\n",
    "        num+=1\n",
    "        den+=1\n",
    "    return num/den\n",
    "def probability_of_message_being_ham(message): \n",
    "    num = den = 1\n",
    "    for word in message.split():\n",
    "        if word in ham_words:\n",
    "            num *= probability_word_given_ham(word)\n",
    "            den *= probability_word(word)\n",
    "    if den==0:\n",
    "        num+=1\n",
    "        den+=1\n",
    "    return num/den\n",
    "def spam_predictor(mess):\n",
    "    if probability_of_message_being_spam(mess) >= probability_of_message_being_ham(mess):\n",
    "        return \"spam\"\n",
    "    else:\n",
    "        return \"ham\"\n"
   ]
  },
  {
   "cell_type": "code",
   "execution_count": 14,
   "metadata": {},
   "outputs": [],
   "source": [
    "def accuracy_prediction(text_test, label_test):\n",
    "    false_positive = false_negative = 0 \n",
    "    true_positive = true_negative = 0\n",
    "    for i,m in enumerate(text_test):\n",
    "        predicted = spam_predictor(m)\n",
    "        actual = label_test[i]\n",
    "        if predicted == \"spam\" and actual == \"spam\":\n",
    "            true_negative+=1\n",
    "        if predicted == \"spam\" and actual == \"ham\":\n",
    "            false_negative+=1\n",
    "        if predicted == \"ham\" and actual == \"spam\":\n",
    "            false_positive+=1\n",
    "        if predicted == \"ham\" and actual == \"ham\":\n",
    "            true_positive+=1\n",
    "    accuracy = (true_negative+true_positive)/len(text_test)\n",
    "    return accuracy, false_positive, false_negative, true_positive, true_negative"
   ]
  },
  {
   "cell_type": "code",
   "execution_count": 15,
   "metadata": {},
   "outputs": [
    {
     "name": "stdout",
     "output_type": "stream",
     "text": [
      "95.91397849462365 0 38 800 92\n"
     ]
    }
   ],
   "source": [
    "acc,fp,fn,tp,tn = accuracy_prediction(text_test,label_test)\n",
    "print(acc*100, fp,fn,tp,tn)"
   ]
  },
  {
   "cell_type": "code",
   "execution_count": 16,
   "metadata": {},
   "outputs": [
    {
     "name": "stdout",
     "output_type": "stream",
     "text": [
      "True positive:  800 \n",
      " False positive:  0 \n",
      " False Negative:  38 \n",
      " True Negative:  92\n"
     ]
    }
   ],
   "source": [
    "print(\"True positive: \",tp,\"\\n False positive: \",fp,\"\\n False Negative: \",fn,\"\\n True Negative: \",tn)"
   ]
  },
  {
   "cell_type": "code",
   "execution_count": null,
   "metadata": {},
   "outputs": [],
   "source": []
  }
 ],
 "metadata": {
  "kernelspec": {
   "display_name": "Python 3",
   "language": "python",
   "name": "python3"
  },
  "language_info": {
   "codemirror_mode": {
    "name": "ipython",
    "version": 3
   },
   "file_extension": ".py",
   "mimetype": "text/x-python",
   "name": "python",
   "nbconvert_exporter": "python",
   "pygments_lexer": "ipython3",
   "version": "3.7.4"
  }
 },
 "nbformat": 4,
 "nbformat_minor": 2
}
