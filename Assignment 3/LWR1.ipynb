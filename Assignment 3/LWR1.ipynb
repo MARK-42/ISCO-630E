{
 "cells": [
  {
   "cell_type": "code",
   "execution_count": 1,
   "metadata": {},
   "outputs": [],
   "source": [
    "import numpy as np\n",
    "import pandas as pd\n",
    "import matplotlib.pyplot as plt"
   ]
  },
  {
   "cell_type": "code",
   "execution_count": 2,
   "metadata": {},
   "outputs": [],
   "source": [
    "data = pd.read_csv('Housing.csv')\n",
    "#data=data.sample(frac=1)\n",
    "data=data.reset_index(drop=True)\n",
    "y=data.price\n",
    "#y=y[0:50]\n",
    "x=data.iloc[:,[2,3,4,5,11]].values\n",
    "#x=x[0:50,:]\n",
    "x1=np.array(x)\n",
    "y_1 = np.array(y)"
   ]
  },
  {
   "cell_type": "code",
   "execution_count": 3,
   "metadata": {},
   "outputs": [],
   "source": [
    "xx= (x1-np.min(x1,axis=0))/(np.max(x1,axis=0)-np.min(x1,axis=0))\n",
    "x = x.astype(float)\n",
    "\n",
    "x[:,0]=xx[:,0]\n",
    "y = (y_1-np.min(y_1,axis=0))/(np.max(y_1,axis=0)-np.min(y_1,axis=0))            \n",
    "x = x.astype(float)\n",
    "pmin=np.min(x1,axis=0)\n",
    "pmax=np.max(x1,axis=0)\n",
    "m = x.shape[0]\n",
    "n = x.shape[1]+1\n",
    "t1 = np.ones((m,1))\n",
    "x = np.hstack((t1,x))\n",
    "theta = np.random.rand(1,n)\n",
    "y = np.array(y)\n",
    "y = np.reshape(y,(y.shape[0],1))"
   ]
  },
  {
   "cell_type": "code",
   "execution_count": 4,
   "metadata": {},
   "outputs": [],
   "source": [
    "tau=100\n",
    "alpha=0.1\n",
    "\n",
    "def Createtheta():\n",
    "    Matrix=np.random.randn(n,1)\n",
    "    return Matrix\n",
    "\n",
    "def calculateWeight(t):\n",
    "    weights=[]\n",
    "    for n in x:\n",
    "        temp=0\n",
    "        for i in range(len(t)):\n",
    "            sqr=(t[i]-n[i])*(t[i]-n[i])\n",
    "            temp = temp + np.exp(-sqr/2*(tau**2))\n",
    "        weights.append(temp/len(t))\n",
    "    return np.reshape(np.array(weights),newshape=(-1,1))\n",
    "    #return weights"
   ]
  },
  {
   "cell_type": "code",
   "execution_count": 5,
   "metadata": {},
   "outputs": [],
   "source": [
    "\n",
    "#weights=calculateWeight(x[0])\n",
    "def fwd(x,w):\n",
    "    return np.dot(x,w)\n",
    "\n",
    "def difference(y,yy):\n",
    "    out=(yy- y)\n",
    "    return out\n",
    "\n",
    "def meanSquaredError(y,yy):\n",
    "    return np.mean(np.multiply(y-yy , y-yy))\n",
    "\n",
    "def denorm(y):\n",
    "    return (y*(pmax-pmin))+pmin\n",
    "\n",
    "def GD(dw,x,weights):\n",
    "    return (dw*x*weights).mean()"
   ]
  },
  {
   "cell_type": "code",
   "execution_count": 6,
   "metadata": {},
   "outputs": [],
   "source": [
    "errorArray=[]\n",
    "errors=[]\n",
    "lossArray=[]\n",
    "def train(index):\n",
    "    temp=x[index]\n",
    "    theta=Createtheta()\n",
    "    weights=calculateWeight(temp)\n",
    "    weights[index]=0\n",
    "    for epoch in range(8000):\n",
    "        ypred=fwd(x,theta)\n",
    "        dw=difference(y,ypred)\n",
    "        errorArray.append(epoch)\n",
    "        P=denorm(ypred)\n",
    "        O=denorm(y)\n",
    "        diff=abs(abs(P)-abs(O))\n",
    "        diff=diff/abs(O)\n",
    "        diff=diff*100\n",
    "        errors.append(diff)\n",
    "        lossArray.append(meanSquaredError(y,ypred))\n",
    "        for i in range(len(theta)):\n",
    "            grad=GD(dw,x[:,i:i+1],weights)\n",
    "            theta[i]=theta[i] - alpha*grad\n",
    "   \n",
    "    return fwd(temp.reshape(-1,6),theta),y[index]"
   ]
  },
  {
   "cell_type": "code",
   "execution_count": 7,
   "metadata": {},
   "outputs": [
    {
     "name": "stderr",
     "output_type": "stream",
     "text": [
      "C:\\Users\\Saumya\\Anaconda3\\lib\\site-packages\\ipykernel_launcher.py:16: RuntimeWarning: divide by zero encountered in true_divide\n",
      "  app.launch_new_instance()\n"
     ]
    },
    {
     "name": "stdout",
     "output_type": "stream",
     "text": [
      "Predicted Value:  [[0.13523869]]\n",
      "Original Value:  [0.11515152]\n",
      "error is:  [[0.00174441]]\n"
     ]
    }
   ],
   "source": [
    "#test on index\n",
    "index = 45\n",
    "predictedValue,originalValue=train(index)\n",
    "print(\"Predicted Value: \",(predictedValue))\n",
    "print(\"Original Value: \",(originalValue))\n",
    "diff=abs((originalValue)-(predictedValue))\n",
    "diff=(diff/(originalValue))/100\n",
    "print(\"error is: \",diff)"
   ]
  },
  {
   "cell_type": "code",
   "execution_count": 8,
   "metadata": {},
   "outputs": [
    {
     "name": "stderr",
     "output_type": "stream",
     "text": [
      "C:\\Users\\Saumya\\Anaconda3\\lib\\site-packages\\ipykernel_launcher.py:16: RuntimeWarning: divide by zero encountered in true_divide\n",
      "  app.launch_new_instance()\n"
     ]
    },
    {
     "name": "stdout",
     "output_type": "stream",
     "text": [
      "Predicted Value:  [[0.1205289]]\n",
      "Original Value:  [0.06666667]\n",
      "error is:  [[0.00807933]]\n"
     ]
    }
   ],
   "source": [
    "index = 75\n",
    "predictedValue,originalValue=train(index)\n",
    "print(\"Predicted Value: \",(predictedValue))\n",
    "print(\"Original Value: \",(originalValue))\n",
    "diff=abs((originalValue)-(predictedValue))\n",
    "diff=(diff/(originalValue))/100\n",
    "print(\"error is: \",diff)\n"
   ]
  },
  {
   "cell_type": "code",
   "execution_count": 9,
   "metadata": {},
   "outputs": [
    {
     "name": "stderr",
     "output_type": "stream",
     "text": [
      "C:\\Users\\Saumya\\Anaconda3\\lib\\site-packages\\ipykernel_launcher.py:16: RuntimeWarning: divide by zero encountered in true_divide\n",
      "  app.launch_new_instance()\n"
     ]
    },
    {
     "name": "stdout",
     "output_type": "stream",
     "text": [
      "Predicted Value:  [[0.18617027]]\n",
      "Original Value:  [0.36363636]\n",
      "error is:  [[0.00488032]]\n"
     ]
    }
   ],
   "source": [
    "index = 115\n",
    "predictedValue,originalValue=train(index)\n",
    "print(\"Predicted Value: \",(predictedValue))\n",
    "print(\"Original Value: \",(originalValue))\n",
    "diff=abs((originalValue)-(predictedValue))\n",
    "diff=(diff/(originalValue))/100\n",
    "print(\"error is: \",diff)\n"
   ]
  },
  {
   "cell_type": "code",
   "execution_count": 10,
   "metadata": {},
   "outputs": [
    {
     "name": "stderr",
     "output_type": "stream",
     "text": [
      "C:\\Users\\Saumya\\Anaconda3\\lib\\site-packages\\ipykernel_launcher.py:16: RuntimeWarning: divide by zero encountered in true_divide\n",
      "  app.launch_new_instance()\n"
     ]
    },
    {
     "name": "stdout",
     "output_type": "stream",
     "text": [
      "Predicted Value:  [[0.11714297]]\n",
      "Original Value:  [0.0969697]\n",
      "error is:  [[0.00208037]]\n"
     ]
    }
   ],
   "source": [
    "index = 215\n",
    "predictedValue,originalValue=train(index)\n",
    "print(\"Predicted Value: \",(predictedValue))\n",
    "print(\"Original Value: \",(originalValue))\n",
    "diff=abs((originalValue)-(predictedValue))\n",
    "diff=(diff/(originalValue))/100\n",
    "print(\"error is: \",diff)\n"
   ]
  },
  {
   "cell_type": "code",
   "execution_count": 11,
   "metadata": {},
   "outputs": [
    {
     "name": "stderr",
     "output_type": "stream",
     "text": [
      "C:\\Users\\Saumya\\Anaconda3\\lib\\site-packages\\ipykernel_launcher.py:16: RuntimeWarning: divide by zero encountered in true_divide\n",
      "  app.launch_new_instance()\n"
     ]
    },
    {
     "name": "stdout",
     "output_type": "stream",
     "text": [
      "Predicted Value:  [[0.35609716]]\n",
      "Original Value:  [0.32121212]\n",
      "error is:  [[0.00108604]]\n"
     ]
    }
   ],
   "source": [
    "index = 315\n",
    "predictedValue,originalValue=train(index)\n",
    "print(\"Predicted Value: \",(predictedValue))\n",
    "print(\"Original Value: \",(originalValue))\n",
    "diff=abs((originalValue)-(predictedValue))\n",
    "diff=(diff/(originalValue))/100\n",
    "print(\"error is: \",diff)\n"
   ]
  },
  {
   "cell_type": "code",
   "execution_count": 12,
   "metadata": {},
   "outputs": [
    {
     "name": "stderr",
     "output_type": "stream",
     "text": [
      "C:\\Users\\Saumya\\Anaconda3\\lib\\site-packages\\ipykernel_launcher.py:16: RuntimeWarning: divide by zero encountered in true_divide\n",
      "  app.launch_new_instance()\n"
     ]
    },
    {
     "name": "stdout",
     "output_type": "stream",
     "text": [
      "Predicted Value:  [[0.24223218]]\n",
      "Original Value:  [0.39393939]\n",
      "error is:  [[0.00385103]]\n"
     ]
    }
   ],
   "source": [
    "\n",
    "index = 415\n",
    "predictedValue,originalValue=train(index)\n",
    "print(\"Predicted Value: \",(predictedValue))\n",
    "print(\"Original Value: \",(originalValue))\n",
    "diff=abs((originalValue)-(predictedValue))\n",
    "diff=(diff/(originalValue))/100\n",
    "print(\"error is: \",diff)\n"
   ]
  },
  {
   "cell_type": "code",
   "execution_count": null,
   "metadata": {},
   "outputs": [],
   "source": []
  }
 ],
 "metadata": {
  "kernelspec": {
   "display_name": "Python 3",
   "language": "python",
   "name": "python3"
  },
  "language_info": {
   "codemirror_mode": {
    "name": "ipython",
    "version": 3
   },
   "file_extension": ".py",
   "mimetype": "text/x-python",
   "name": "python",
   "nbconvert_exporter": "python",
   "pygments_lexer": "ipython3",
   "version": "3.7.4"
  }
 },
 "nbformat": 4,
 "nbformat_minor": 2
}
