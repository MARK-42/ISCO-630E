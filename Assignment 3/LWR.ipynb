{
 "cells": [
  {
   "cell_type": "code",
   "execution_count": 1,
   "metadata": {},
   "outputs": [],
   "source": [
    "# basic imports\n",
    "import numpy as np\n",
    "import matplotlib.pyplot as plt\n",
    "import csv\n",
    "import sys\n",
    "from sklearn.linear_model import LinearRegression\n",
    "\n",
    "\n"
   ]
  },
  {
   "cell_type": "code",
   "execution_count": 2,
   "metadata": {},
   "outputs": [],
   "source": [
    "# extract data\n",
    "def extract_data() :\n",
    "    X = []\n",
    "    Y = []\n",
    "    \n",
    "    data_file = open(\"housing.csv\")\n",
    "    data_reader = csv.reader(data_file)\n",
    "    \n",
    "    row_count = 0\n",
    "    for row in data_reader :\n",
    "        row_count += 1\n",
    "        if(row_count != 1) :\n",
    "            Y.append(float(row[1])) # price\n",
    "            data_row = [float(1)]\n",
    "            for i in range(2, len(row)) :\n",
    "                if(row[i] == \"yes\" or row[i] == \"no\") :\n",
    "                    if(row[i] == \"yes\") :\n",
    "                        data_row.append(float(1))\n",
    "                    else :\n",
    "                        data_row.append(float(0))\n",
    "                else :\n",
    "                    data_row.append(float(row[i]))\n",
    "            X.append(data_row)\n",
    "    \n",
    "    X = np.array(X)\n",
    "    Y = np.array(Y)\n",
    "    \n",
    "    return X, Y\n"
   ]
  },
  {
   "cell_type": "code",
   "execution_count": 3,
   "metadata": {},
   "outputs": [],
   "source": [
    "\n",
    "# linear regression regularized functions\n",
    "# cost function linear regression regularized\n",
    "def cost_function_LR_reg(X, Y, theta, reg_lambda) :\n",
    "    sample_count = float(X.shape[0])\n",
    "    reg_sum = (reg_lambda / (float(2) * sample_count)) * np.sum(np.square(theta[1:]))\n",
    "    return (float(1) / (float(2) * sample_count)) * float(np.dot(np.transpose(np.dot(X, theta) - Y) , np.dot(X, theta) - Y)) + reg_sum\n",
    "\n",
    "# gradient descent linear regression regularized\n",
    "def gradient_descent_LR_reg(X, Y, theta, alpha, threshold, reg_lambda) :\n",
    "    costs = [cost_function_LR_reg(X, Y, theta, reg_lambda)]\n",
    "    iterations = [1]\n",
    "    sample_count = float(X.shape[0])\n",
    "    iteration_count = 2\n",
    "    \n",
    "    while(True):\n",
    "        reg_term = (reg_lambda / sample_count) * theta\n",
    "        reg_term[0] = 0\n",
    "        theta = theta - ((alpha / sample_count) * np.dot(np.transpose(X), np.dot(X, theta) - Y) + reg_term)\n",
    "        \n",
    "        current_cost = cost_function_LR_reg(X, Y, theta, reg_lambda)\n",
    "        prev_cost = costs[iteration_count - 2]\n",
    "        costs.append(current_cost)\n",
    "        iterations.append(iteration_count)\n",
    "        \n",
    "        if(prev_cost - current_cost <= threshold) :\n",
    "            break\n",
    "            \n",
    "        iteration_count = iteration_count + 1\n",
    "    \n",
    "    display_graph(costs, iterations)    # display graph \n",
    "    return theta\n",
    "\n",
    "# initialize theta\n",
    "def init_theta_LR_reg(X) :\n",
    "    return np.zeros(X.shape[1])\n",
    "    \n",
    "# normal equation \n",
    "def normal_equation_reg(X, Y, reg_lambda) :\n",
    "    reg_term = np.zeros((X.shape[1], X.shape[1]))\n",
    "    for i in range(1, X.shape[1]) :\n",
    "        reg_term[i][i] = reg_lambda\n",
    "    \n",
    "    return np.dot(np.linalg.inv(np.dot(np.transpose(X), X) + reg_term), np.dot(np.transpose(X), Y))\n"
   ]
  },
  {
   "cell_type": "code",
   "execution_count": 4,
   "metadata": {},
   "outputs": [],
   "source": [
    "# locally weighted regression functions\n",
    "# get local weights\n",
    "def get_weights(X, input_var, LWRBand) :\n",
    "    sample_count = (X.shape[0])\n",
    "    weights = np.zeros((sample_count, sample_count))\n",
    "    for i in range(sample_count) :\n",
    "        weights[i][i] = np.exp((float(-1/2) * np.dot(np.transpose(X[i] - input_var), (X[i] - input_var))) / (LWRBand * LWRBand))\n",
    "    return weights\n",
    "\n",
    "# LWR cost\n",
    "def LWRCost(X, Y, theta, W, reg_lambda):\n",
    "    sample_count = float(X.shape[0])\n",
    "    reg_sum = (reg_lambda / (float(2) * sample_count)) * np.sum(np.square(theta[1:]))\n",
    "    return np.dot(np.dot(np.transpose(np.dot(X, theta) - Y), W), (np.dot(X, theta) - Y)) + reg_sum\n",
    "# initialize theta\n",
    "def init_theta_LWR(X) :\n",
    "    return np.zeros(X.shape[1])\n",
    "\n",
    "# gradient descent\n",
    "def LWRGD(X, Y, theta, alpha, W, threshold, reg_lambda) :\n",
    "    costs = [LWRCost(X, Y, theta, W, reg_lambda)]\n",
    "    iterations = [1]\n",
    "    sample_count = float(X.shape[0])\n",
    "    iteration_count = 2\n",
    "    \n",
    "    while(True):\n",
    "        reg_term = (reg_lambda) * theta\n",
    "        reg_term[0] = 0\n",
    "        sample_count = X.shape[0]\n",
    "        theta = theta - (alpha / sample_count) * (np.dot(np.dot(np.transpose(X), W), np.dot(X, theta) - Y) + reg_term)\n",
    "        \n",
    "        current_cost = LWRCost(X, Y, theta, W, reg_lambda)\n",
    "        prev_cost = costs[iteration_count - 2]\n",
    "        if(iteration_count % 100 == 0) :\n",
    "            print(iteration_count, prev_cost, current_cost, prev_cost - current_cost)\n",
    "        costs.append(current_cost)\n",
    "        iterations.append(iteration_count)\n",
    "        \n",
    "        if(prev_cost - current_cost <= threshold) :\n",
    "            break\n",
    "            \n",
    "        iteration_count = iteration_count + 1\n",
    "    \n",
    "    print(\"Total iterations: \", iteration_count)\n",
    "    display_graph(costs, iterations)    # display graph \n",
    "    return theta\n",
    "\n",
    "# display graph\n",
    "def display_graph(costs, iterations) :\n",
    "    plt.plot(iterations, costs)\n",
    "\n",
    "# normal equation\n",
    "def LWR_Normal(X, W, Y) :\n",
    "    reg_term = np.zeros((X.shape[1], X.shape[1]))\n",
    "    for i in range(1, X.shape[1]) :\n",
    "        reg_term[i][i] = reg_lambda\n",
    "    val1 = np.linalg.inv(np.dot(np.dot(np.transpose(X), W), X) + reg_term)\n",
    "    val2 = np.dot(np.dot(np.transpose(X), W), Y)\n",
    "    \n",
    "    return np.dot(val1, val2)\n"
   ]
  },
  {
   "cell_type": "code",
   "execution_count": 5,
   "metadata": {},
   "outputs": [],
   "source": [
    "# initialize global variables\n",
    "X, Y = extract_data()\n",
    "alpha = 10000000000\n",
    "threshold = 10 ** (-40)\n",
    "theta = init_theta_LWR(X)\n",
    "reg_lambda = 10 ** (-22)\n",
    "LWRBand = float(20 / 546)\n",
    "\n",
    "input_var = [1, 4000,2 ,1 ,1 ,1 ,1 ,0 ,0 ,0 ,0 ,0]"
   ]
  },
  {
   "cell_type": "code",
   "execution_count": 6,
   "metadata": {},
   "outputs": [],
   "source": [
    "mean_col = np.mean(X, axis=0)\n",
    "std_col = np.std(X, axis=0)\n",
    "for i in range(1, X.shape[1]) :\n",
    "    for j in range(X.shape[0]) :\n",
    "        X[j][i] = X[j][i] - mean_col[i]\n",
    "        X[j][i] = X[j][i] / std_col[i]\n",
    "            \n",
    "# apply this for input as well\n",
    "for i in range(1, X.shape[1]): \n",
    "    input_var[i] = input_var[i] - mean_col[i]\n",
    "    input_var[i] = input_var[i] / std_col[i]"
   ]
  },
  {
   "cell_type": "code",
   "execution_count": 7,
   "metadata": {},
   "outputs": [
    {
     "name": "stdout",
     "output_type": "stream",
     "text": [
      "Total iterations:  54\n",
      "Final cost:  9.060006210999761e-18\n",
      "Final theta:  [ 3101.57188523 -2362.88555452 -4063.51498634 -1766.32905256\n",
      " -2888.0508516   1256.72655661  6672.96972752 -2275.01549192\n",
      "  -679.41165693 -2112.27513615 -2495.29173226 -1716.32170698]\n",
      "Predicted value :  34454.59427890817\n"
     ]
    },
    {
     "data": {
      "image/png": "[encoded data removed]",
      "text/plain": [
       "<Figure size 432x288 with 1 Axes>"
      ]
     },
     "metadata": {
      "needs_background": "light"
     },
     "output_type": "display_data"
    }
   ],
   "source": [
    "# locally weighted regression functions\n",
    "\n",
    "W = get_weights(X, input_var, LWRBand)\n",
    "LWRTheta = LWRGD(X, Y, theta, alpha, W, threshold, reg_lambda)\n",
    "print(\"Final cost: \", LWRCost(X, Y, LWRTheta, W, reg_lambda))\n",
    "print(\"Final theta: \", LWRTheta)\n",
    "\n",
    "print(\"Predicted value : \", np.dot(np.transpose(input_var), LWRTheta))"
   ]
  },
  {
   "cell_type": "code",
   "execution_count": 8,
   "metadata": {},
   "outputs": [
    {
     "name": "stdout",
     "output_type": "stream",
     "text": [
      "Final cost:  0.0014490362489622119\n",
      "Final theta:  [ 3.379200e+04 -3.303125e+02 -1.280000e+02 -2.560000e+02  4.725000e+01\n",
      " -1.665000e+02  0.000000e+00  0.000000e+00 -1.275000e+01 -1.100000e+01\n",
      "  0.000000e+00  6.400000e+01]\n",
      "Predicted value :  34144.29688021046\n"
     ]
    }
   ],
   "source": [
    "\n",
    "# for normal equation\n",
    "LWRTheta_Normal = LWR_Normal(X, W, Y)\n",
    "print(\"Final cost: \", LWRCost(X, Y, LWRTheta_Normal, W, reg_lambda))\n",
    "print(\"Final theta: \", LWRTheta_Normal)\n",
    "\n",
    "print(\"Predicted value : \", np.dot(np.transpose(input_var), LWRTheta_Normal))"
   ]
  },
  {
   "cell_type": "code",
   "execution_count": null,
   "metadata": {},
   "outputs": [],
   "source": []
  }
 ],
 "metadata": {
  "kernelspec": {
   "display_name": "Python 3",
   "language": "python",
   "name": "python3"
  },
  "language_info": {
   "codemirror_mode": {
    "name": "ipython",
    "version": 3
   },
   "file_extension": ".py",
   "mimetype": "text/x-python",
   "name": "python",
   "nbconvert_exporter": "python",
   "pygments_lexer": "ipython3",
   "version": "3.7.4"
  }
 },
 "nbformat": 4,
 "nbformat_minor": 2
}
