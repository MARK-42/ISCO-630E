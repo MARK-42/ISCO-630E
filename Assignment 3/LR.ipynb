{
 "cells": [
  {
   "cell_type": "code",
   "execution_count": 1,
   "metadata": {},
   "outputs": [],
   "source": [
    "# basic imports\n",
    "\n",
    "import numpy as np\n",
    "import matplotlib.pyplot as plt\n",
    "import csv\n",
    "import sys\n",
    "from sklearn.linear_model import LinearRegression\n",
    "import random"
   ]
  },
  {
   "cell_type": "code",
   "execution_count": 2,
   "metadata": {},
   "outputs": [],
   "source": [
    "# extract data\n",
    "\n",
    "def extract_data() :\n",
    "    X = []\n",
    "    Y = []\n",
    "    \n",
    "    data_file = open(\"housing.csv\")\n",
    "    data_reader = csv.reader(data_file)\n",
    "    \n",
    "    row_count = 0\n",
    "    for row in data_reader :\n",
    "        row_count += 1\n",
    "        if(row_count != 1) :\n",
    "            Y.append(float(row[1])) # price\n",
    "            data_row = [float(1)]\n",
    "            for i in range(2, len(row)) :\n",
    "                if(row[i] == \"yes\" or row[i] == \"no\") :\n",
    "                    if(row[i] == \"yes\") :\n",
    "                        data_row.append(float(1))\n",
    "                    else :\n",
    "                        data_row.append(float(0))\n",
    "                else :\n",
    "                    data_row.append(float(row[i]))\n",
    "            X.append(data_row)\n",
    "    \n",
    "    X = np.array(X)\n",
    "    Y = np.array(Y)\n",
    "    \n",
    "    return X, Y"
   ]
  },
  {
   "cell_type": "code",
   "execution_count": 3,
   "metadata": {},
   "outputs": [],
   "source": [
    "\n",
    "# cost function linear regression normal\n",
    "def cost_function_LR(X, Y, theta) :\n",
    "    sample_count = float(X.shape[0])\n",
    "    return (float(1) / (float(2) * sample_count)) * float(np.dot(np.transpose(np.dot(X, theta) - Y) , np.dot(X, theta) - Y))\n",
    "\n",
    "# gradient descent linear regression normal\n",
    "def gradient_descent_LR(X, Y, theta, alpha, threshold) :\n",
    "    costs = [cost_function_LR(X, Y, theta)]\n",
    "    iterations = [1]\n",
    "    sample_count = float(X.shape[0])\n",
    "    iteration_count = 2\n",
    "    \n",
    "    while(True):\n",
    "        theta = theta - (alpha / sample_count) * np.dot(np.transpose(X), np.dot(X, theta) - Y)\n",
    "        \n",
    "        current_cost = cost_function_LR(X, Y, theta)\n",
    "#         if(iteration_count % 5000 == 0) :\n",
    "#             print(iteration_count, \" => \", current_cost, \" prev cost : \", costs[iteration_count - 2], \" error diff :\" , costs[iteration_count - 2] - current_cost)\n",
    "        prev_cost = costs[iteration_count - 2]\n",
    "        costs.append(current_cost)\n",
    "        iterations.append(iteration_count)\n",
    "        \n",
    "        if(prev_cost - current_cost <= threshold) :\n",
    "            break\n",
    "            \n",
    "        iteration_count = iteration_count + 1\n",
    "    \n",
    "    print(\"Total iterations: \", iteration_count)\n",
    "    display_graph(costs, iterations)    # display graph \n",
    "    return theta\n",
    "\n",
    "# initialize theta\n",
    "def init_theta_LR(X) :\n",
    "    return np.zeros(X.shape[1])\n",
    "\n",
    "# display cost function v/s iterations\n",
    "def display_graph(costs, iterations) :\n",
    "#     print(\"Number of iterations: \", iterations[len(iterations) - 1])\n",
    "#     print(\"Final cost : \", costs[len(costs) - 1])\n",
    "    plt.plot(iterations, costs)\n",
    "    \n",
    "# normal equation \n",
    "def normal_equation(X, Y) :\n",
    "    return np.dot(np.linalg.inv(np.dot(np.transpose(X), X)), np.dot(np.transpose(X), Y))"
   ]
  },
  {
   "cell_type": "code",
   "execution_count": 4,
   "metadata": {},
   "outputs": [],
   "source": [
    "# initialize global variables\n",
    "\n",
    "X, Y = extract_data()\n",
    "\n",
    "alpha = 0.001\n",
    "threshold = 0.001\n",
    "theta = init_theta_LR(X)"
   ]
  },
  {
   "cell_type": "code",
   "execution_count": 5,
   "metadata": {},
   "outputs": [],
   "source": [
    "\n",
    "# apply standardization\n",
    "std_vals = np.std(X, axis=0)\n",
    "mean_vals = np.mean(X, axis=0)\n",
    "\n",
    "for i in range(X.shape[0]) :\n",
    "    for j in range(X.shape[1]) :\n",
    "        if(std_vals[j] != 0) :\n",
    "            X[i][j] = X[i][j] - mean_vals[j]\n",
    "            X[i][j] = X[i][j] / std_vals[j]"
   ]
  },
  {
   "cell_type": "code",
   "execution_count": 6,
   "metadata": {},
   "outputs": [
    {
     "name": "stdout",
     "output_type": "stream",
     "text": [
      "Total iterations:  17096\n",
      "Final theta LR :  [68121.59452683  7681.24918067  1350.69260459  7192.34987633\n",
      "  5686.05621156  2328.16523976  1724.83428173  2599.2129545\n",
      "  2682.1725849   5877.93872438  3652.65700039  3969.57738897]\n",
      "Final cost LR :  116323326.88580278\n"
     ]
    },
    {
     "data": {
      "image/png": "[encoded data removed]",
      "text/plain": [
       "<Figure size 432x288 with 1 Axes>"
      ]
     },
     "metadata": {
      "needs_background": "light"
     },
     "output_type": "display_data"
    }
   ],
   "source": [
    "# get params for LR\n",
    "\n",
    "LR_theta = gradient_descent_LR(X, Y, theta, alpha, threshold)\n",
    "print(\"Final theta LR : \", LR_theta)\n",
    "print(\"Final cost LR : \", cost_function_LR(X, Y, LR_theta))"
   ]
  },
  {
   "cell_type": "code",
   "execution_count": 7,
   "metadata": {},
   "outputs": [
    {
     "name": "stdout",
     "output_type": "stream",
     "text": [
      "Final cost normal :  116323325.68174724\n",
      "Final theta values normal :  [68121.5970696   7681.90333904  1349.65960237  7192.11811316\n",
      "  5687.54112736  2327.66806048  1724.3147626   2600.30789607\n",
      "  2682.07228891  5877.43118895  3652.74942358  3969.33279353]\n"
     ]
    }
   ],
   "source": [
    "\n",
    "# for normal equation LR\n",
    "normal_equation_LR_theta = normal_equation(X, Y)\n",
    "print(\"Final cost normal : \", cost_function_LR(X, Y, normal_equation_LR_theta))\n",
    "print(\"Final theta values normal : \", normal_equation_LR_theta)"
   ]
  },
  {
   "cell_type": "code",
   "execution_count": 8,
   "metadata": {},
   "outputs": [
    {
     "name": "stdout",
     "output_type": "stream",
     "text": [
      "Final coefficients LR:  [   0.         7681.90333904 1349.65960237 7192.11811316 5687.54112736\n",
      " 2327.66806048 1724.3147626  2600.30789607 2682.07228891 5877.43118895\n",
      " 3652.74942358 3969.33279353]\n",
      "Final intercept LR:  68121.59706959708\n"
     ]
    }
   ],
   "source": [
    "# using scikit learn library to verify answer\n",
    "lr = LinearRegression()\n",
    "lr.fit(X, Y)\n",
    "# print(lr.score(X, Y))\n",
    "print(\"Final coefficients LR: \" , lr.coef_)\n",
    "print(\"Final intercept LR: \" , lr.intercept_)\n"
   ]
  },
  {
   "cell_type": "code",
   "execution_count": 9,
   "metadata": {},
   "outputs": [],
   "source": [
    "# apply regularization , init global variables \n",
    "reg_lambda = 0.1"
   ]
  },
  {
   "cell_type": "code",
   "execution_count": 10,
   "metadata": {},
   "outputs": [],
   "source": [
    "# linear regression regularized functions\n",
    "\n",
    "# cost function linear regression regularized\n",
    "def cost_function_LR_reg(X, Y, theta, reg_lambda) :\n",
    "    sample_count = float(X.shape[0])\n",
    "    reg_sum = (reg_lambda / (float(2) * sample_count)) * np.sum(np.square(theta[1:]))\n",
    "    return (float(1) / (float(2) * sample_count)) * float(np.dot(np.transpose(np.dot(X, theta) - Y) , np.dot(X, theta) - Y)) + reg_sum\n",
    "\n",
    "# gradient descent linear regression regularized\n",
    "def gradient_descent_LR_reg(X, Y, theta, alpha, threshold, reg_lambda) :\n",
    "    costs = [cost_function_LR_reg(X, Y, theta, reg_lambda)]\n",
    "    iterations = [1]\n",
    "    sample_count = float(X.shape[0])\n",
    "    iteration_count = 2\n",
    "    \n",
    "    while(True):\n",
    "        reg_term = (reg_lambda) * theta\n",
    "        reg_term[0] = 0\n",
    "        theta = theta - (alpha / sample_count) * (np.dot(np.transpose(X), np.dot(X, theta) - Y) + reg_term)\n",
    "        \n",
    "        current_cost = cost_function_LR_reg(X, Y, theta, reg_lambda)\n",
    "        prev_cost = costs[iteration_count - 2]\n",
    "        costs.append(current_cost)\n",
    "        iterations.append(iteration_count)\n",
    "        \n",
    "        if(prev_cost - current_cost <= threshold) :\n",
    "            break\n",
    "            \n",
    "        iteration_count = iteration_count + 1\n",
    "    \n",
    "    print(\"Total iterations: \", iteration_count)\n",
    "    display_graph(costs, iterations)    # display graph \n",
    "    return theta\n",
    "\n",
    "# initialize theta\n",
    "def init_theta_LR_reg(X) :\n",
    "    return np.zeros(X.shape[1])\n",
    "    \n",
    "# normal equation \n",
    "def normal_equation_reg(X, Y, reg_lambda) :\n",
    "    reg_term = np.zeros((X.shape[1], X.shape[1]))\n",
    "    for i in range(1, X.shape[1]) :\n",
    "        reg_term[i][i] = reg_lambda\n",
    "    \n",
    "    return np.dot(np.linalg.inv(np.dot(np.transpose(X), X) + reg_term), np.dot(np.transpose(X), Y))"
   ]
  },
  {
   "cell_type": "code",
   "execution_count": 11,
   "metadata": {},
   "outputs": [
    {
     "name": "stdout",
     "output_type": "stream",
     "text": [
      "Total iterations:  17089\n",
      "Final cost LR reg :  116344468.86189058\n",
      "Final theta values LR reg :  [68121.59450896  7680.12586032  1351.52327014  7191.42938284\n",
      "  5685.13213484  2328.35786138  1725.0860881   2598.6506428\n",
      "  2681.62765466  5877.36829972  3652.61184557  3969.23458743]\n"
     ]
    },
    {
     "data": {
      "image/png": "[encoded data removed]",
      "text/plain": [
       "<Figure size 432x288 with 1 Axes>"
      ]
     },
     "metadata": {
      "needs_background": "light"
     },
     "output_type": "display_data"
    }
   ],
   "source": [
    "# Regularized linear regression using gradient descent\n",
    "\n",
    "theta = init_theta_LR_reg(X)\n",
    "theta_LR_reg = gradient_descent_LR_reg(X, Y, theta, alpha, threshold, reg_lambda)\n",
    "\n",
    "print(\"Final cost LR reg : \", cost_function_LR_reg(X, Y, theta_LR_reg, reg_lambda))\n",
    "print(\"Final theta values LR reg : \", theta_LR_reg)\n"
   ]
  },
  {
   "cell_type": "code",
   "execution_count": 12,
   "metadata": {},
   "outputs": [
    {
     "name": "stdout",
     "output_type": "stream",
     "text": [
      "Final cost LR reg :  116344467.65890987\n",
      "Final theta values LR reg :  [68121.5970696   7680.77961523  1350.49089731  7191.19786875\n",
      "  5686.61602204  2327.86101151  1724.56688369  2599.7448518\n",
      "  2681.52744473  5876.86113663  3652.7041446   3968.9901632 ]\n"
     ]
    }
   ],
   "source": [
    "# regularized normal equation\n",
    "theta = init_theta_LR_reg(X)\n",
    "normal_equation_LR_reg_theta = normal_equation_reg(X, Y, reg_lambda)\n",
    "\n",
    "print(\"Final cost LR reg : \", cost_function_LR_reg(X, Y, normal_equation_LR_reg_theta, reg_lambda))\n",
    "print(\"Final theta values LR reg : \", normal_equation_LR_reg_theta)"
   ]
  },
  {
   "cell_type": "code",
   "execution_count": 13,
   "metadata": {},
   "outputs": [],
   "source": [
    "# split into train and test\n",
    "\n",
    "train_size = int((X.shape[0] * 7) / 10)\n",
    "X_train_indices = random.sample(range(0, X.shape[0]), train_size)\n",
    "\n",
    "X_train = []\n",
    "X_test = []\n",
    "Y_train = []\n",
    "Y_test = []\n",
    "\n",
    "for i in range(X.shape[0]) :\n",
    "    if i in X_train_indices :\n",
    "        X_train.append(X[i])\n",
    "        Y_train.append(Y[i])\n",
    "    else :\n",
    "        X_test.append(X[i])\n",
    "        Y_test.append(Y[i])\n",
    "\n",
    "X_train = np.array(X_train)\n",
    "X_test = np.array(X_test)\n",
    "Y_train = np.array(Y_train)\n",
    "Y_test = np.array(Y_test)"
   ]
  },
  {
   "cell_type": "code",
   "execution_count": 14,
   "metadata": {},
   "outputs": [
    {
     "name": "stdout",
     "output_type": "stream",
     "text": [
      "Total iterations:  15042\n",
      "Final train cost LR reg :  119753577.05931738\n",
      "Final train theta values LR reg :  [68180.23747983  7743.89708526   643.0907307   8451.17240445\n",
      "  5549.13407479  2192.98350288  1235.17618662  2290.30932446\n",
      "  2244.04166671  6026.92527528  3557.16629895  4249.8818024 ]\n"
     ]
    },
    {
     "data": {
      "image/png": "[encoded data removed]",
      "text/plain": [
       "<Figure size 432x288 with 1 Axes>"
      ]
     },
     "metadata": {
      "needs_background": "light"
     },
     "output_type": "display_data"
    }
   ],
   "source": [
    "# Regularized linear regression using gradient descent\n",
    "\n",
    "theta = init_theta_LR_reg(X_train)\n",
    "theta_LR_reg = gradient_descent_LR_reg(X_train, Y_train, theta, alpha, threshold, reg_lambda)\n",
    "\n",
    "print(\"Final train cost LR reg : \", cost_function_LR_reg(X_train, Y_train, theta_LR_reg, reg_lambda))\n",
    "print(\"Final train theta values LR reg : \", theta_LR_reg)"
   ]
  },
  {
   "cell_type": "code",
   "execution_count": 15,
   "metadata": {},
   "outputs": [
    {
     "name": "stdout",
     "output_type": "stream",
     "text": [
      "Final train cost LR reg :  119753575.94535545\n",
      "Final train theta values LR reg :  [68180.26961407  7744.36737269   641.99164996  8451.13537663\n",
      "  5550.34339205  2192.25501062  1234.44835205  2291.25593261\n",
      "  2244.31320356  6026.69689772  3557.20703361  4250.2022424 ]\n"
     ]
    }
   ],
   "source": [
    "\n",
    "# regularized normal equation\n",
    "theta = init_theta_LR_reg(X_train)\n",
    "normal_equation_LR_reg_theta = normal_equation_reg(X_train, Y_train, reg_lambda)\n",
    "\n",
    "print(\"Final train cost LR reg : \", cost_function_LR_reg(X_train, Y_train, normal_equation_LR_reg_theta, reg_lambda))\n",
    "print(\"Final train theta values LR reg : \", normal_equation_LR_reg_theta)"
   ]
  },
  {
   "cell_type": "code",
   "execution_count": 16,
   "metadata": {},
   "outputs": [
    {
     "name": "stdout",
     "output_type": "stream",
     "text": [
      "Error obtained for test data :  111700056.19388916\n"
     ]
    }
   ],
   "source": [
    "# finding error for test data\n",
    "print(\"Error obtained for test data : \", cost_function_LR_reg(X_test, Y_test, normal_equation_LR_reg_theta, reg_lambda))"
   ]
  },
  {
   "cell_type": "code",
   "execution_count": null,
   "metadata": {},
   "outputs": [],
   "source": []
  }
 ],
 "metadata": {
  "kernelspec": {
   "display_name": "Python 3",
   "language": "python",
   "name": "python3"
  },
  "language_info": {
   "codemirror_mode": {
    "name": "ipython",
    "version": 3
   },
   "file_extension": ".py",
   "mimetype": "text/x-python",
   "name": "python",
   "nbconvert_exporter": "python",
   "pygments_lexer": "ipython3",
   "version": "3.7.4"
  }
 },
 "nbformat": 4,
 "nbformat_minor": 2
}
