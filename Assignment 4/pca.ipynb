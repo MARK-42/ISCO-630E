{
 "cells": [
  {
   "cell_type": "code",
   "execution_count": 85,
   "metadata": {},
   "outputs": [],
   "source": [
    "# Package imports\n",
    "\n",
    "import matplotlib.pyplot as plt\n",
    "import numpy as np\n",
    "import os \n",
    "import sys\n",
    "from PIL import Image\n",
    "import random\n",
    "import cv2\n",
    "import functools\n",
    "from copy import deepcopy"
   ]
  },
  {
   "cell_type": "code",
   "execution_count": 86,
   "metadata": {},
   "outputs": [],
   "source": [
    "height = 64\n",
    "width = 64\n",
    "original = os.path.join('dataset','photos')\n",
    "new = os.path.join('dataset','compressed')\n",
    "files=os.listdir(original)"
   ]
  },
  {
   "cell_type": "code",
   "execution_count": 87,
   "metadata": {},
   "outputs": [],
   "source": [
    "#resize images \n",
    "for file in files:    \n",
    "    path =  os.path.join(original,file)\n",
    "    new_path = os.path.join(new, file)\n",
    "    image = Image.open(path)\n",
    "    image = image.resize((height,width), Image.ANTIALIAS)   \n",
    "    image.save(new_path)"
   ]
  },
  {
   "cell_type": "code",
   "execution_count": 88,
   "metadata": {},
   "outputs": [],
   "source": [
    "# get all images from the reduced dataset, and construct the dataset\n",
    "Y = [] # output\n",
    "Yid = {} # name to number Y_values\n",
    "Yname = {} # nuber to name Y_inverse_values \n",
    "\n",
    "X = [] # training dataset R\n",
    "files=os.listdir(new)\n",
    "\n",
    "for file in files:    \n",
    "    # for X\n",
    "    image_path=os.path.join(new, file)\n",
    "    image = cv2.imread(image_path)\n",
    "    image = cv2.cvtColor(image, cv2.COLOR_BGR2GRAY)\n",
    "    image = image.flatten()\n",
    "    X.append(image)\n",
    "    # for Y\n",
    "    name = file.split(\"_\")[0]\n",
    "    if(name not in Yid) :\n",
    "        val = len(Yid) + 1\n",
    "        Yid[name] = val\n",
    "        Yname[val] = name\n",
    "    Y.append(Yid[name])\n",
    "        \n",
    "X = np.array(X)\n",
    "Y = np.array(Y)"
   ]
  },
  {
   "cell_type": "code",
   "execution_count": 89,
   "metadata": {},
   "outputs": [],
   "source": [
    "#mean_intensities\n",
    "u = np.mean(X, axis=0)"
   ]
  },
  {
   "cell_type": "code",
   "execution_count": 90,
   "metadata": {},
   "outputs": [],
   "source": [
    "# split into training and testing data\n",
    "X_train = []\n",
    "X_test = []\n",
    "Y_train = []\n",
    "Y_test = []\n",
    "\n",
    "percent = 80 \n",
    "sample_size = int((percent / float(100)) * X.shape[0])\n",
    "training_indices = random.sample(range(0, X.shape[0]), sample_size)\n",
    "for i in range(X.shape[0]) :\n",
    "    if(i in training_indices) :\n",
    "        X_train.append(X[i])\n",
    "        Y_train.append(Y[i])\n",
    "    else :\n",
    "        X_test.append(X[i])\n",
    "        Y_test.append(Y[i])\n",
    "        \n",
    "X_train = np.array(X_train)\n",
    "Y_train = np.array(Y_train)\n",
    "X_test = np.array(X_test)\n",
    "Y_test = np.array(Y_test)"
   ]
  },
  {
   "cell_type": "code",
   "execution_count": 91,
   "metadata": {},
   "outputs": [],
   "source": [
    "#noralising training dataset\n",
    "utrain = np.mean(X_train,axis=0)\n",
    "X_train = X_train - utrain"
   ]
  },
  {
   "cell_type": "code",
   "execution_count": 92,
   "metadata": {},
   "outputs": [],
   "source": [
    "#normlaising testing dataset\n",
    "X_test_original = deepcopy(X_test)\n",
    "utest = np.mean(X_test,axis=0)\n",
    "X_test = X_test - utest"
   ]
  },
  {
   "cell_type": "code",
   "execution_count": 93,
   "metadata": {},
   "outputs": [],
   "source": [
    "# finding covariance matrix \n",
    "covariance = (1 / float(X_train.shape[0])) * np.dot(np.transpose(X_train), X_train)"
   ]
  },
  {
   "cell_type": "code",
   "execution_count": 94,
   "metadata": {},
   "outputs": [],
   "source": [
    "# finding best K values\n",
    "u, s, v = np.linalg.svd(covariance)\n",
    "totalsum = 0\n",
    "for i in range(s.shape[0]) :\n",
    "    totalsum = totalsum + s[i]\n",
    "sm = 0\n",
    "for i in range(s.shape[0]) :\n",
    "    sm = sm + s[i]\n",
    "    val = float(sm) / float(totalsum)\n",
    "    if(val >= 0.99) :\n",
    "        K=i+1\n",
    "        break"
   ]
  },
  {
   "cell_type": "code",
   "execution_count": 95,
   "metadata": {},
   "outputs": [],
   "source": [
    "#calculating eigen vectors\n",
    "EigenVectors = []\n",
    "for i in range(K) :\n",
    "    EigenVectors.append(u[:,i])\n",
    "EigenVectors = np.array(EigenVectors)"
   ]
  },
  {
   "cell_type": "code",
   "execution_count": 96,
   "metadata": {},
   "outputs": [
    {
     "data": {
      "text/plain": [
       "array([[-0.00571757, -0.00534319, -0.00443315, ...,  0.0123138 ,\n",
       "         0.01218299,  0.01124567],\n",
       "       [-0.00054723, -0.00071774, -0.00168021, ...,  0.01159185,\n",
       "         0.01250289,  0.01012099],\n",
       "       [ 0.0290654 ,  0.0288687 ,  0.02922227, ..., -0.02679854,\n",
       "        -0.02789048, -0.02718663],\n",
       "       ...,\n",
       "       [ 0.01922902,  0.006195  , -0.0032372 , ...,  0.0301986 ,\n",
       "         0.00287601, -0.00558181],\n",
       "       [ 0.00759596,  0.02077762,  0.00807683, ..., -0.00074071,\n",
       "        -0.01054709, -0.02763815],\n",
       "       [ 0.00186106,  0.00201211,  0.01778391, ...,  0.00169023,\n",
       "        -0.0117203 ,  0.00362528]])"
      ]
     },
     "execution_count": 96,
     "metadata": {},
     "output_type": "execute_result"
    }
   ],
   "source": [
    "EigenVectors"
   ]
  },
  {
   "cell_type": "code",
   "execution_count": 97,
   "metadata": {},
   "outputs": [
    {
     "data": {
      "text/plain": [
       "(80, 4096)"
      ]
     },
     "execution_count": 97,
     "metadata": {},
     "output_type": "execute_result"
    }
   ],
   "source": [
    "X_train.shape"
   ]
  },
  {
   "cell_type": "code",
   "execution_count": 98,
   "metadata": {},
   "outputs": [],
   "source": [
    "# getting the eigen faces\n",
    "eigen_faces = np.dot(X_train, np.transpose(EigenVectors))"
   ]
  },
  {
   "cell_type": "code",
   "execution_count": 99,
   "metadata": {},
   "outputs": [],
   "source": [
    "# for testing data => already done mean normalization\n",
    "projected_data = np.dot(X_test, np.transpose(EigenVectors))"
   ]
  },
  {
   "cell_type": "code",
   "execution_count": 100,
   "metadata": {},
   "outputs": [],
   "source": [
    "X_train = eigen_faces\n",
    "X_test = projected_data"
   ]
  },
  {
   "cell_type": "code",
   "execution_count": 101,
   "metadata": {},
   "outputs": [],
   "source": [
    "#predictions\n",
    "predictions = []\n",
    "\n",
    "for i in range(X_test.shape[0]) :\n",
    "    min_distance = -1\n",
    "    for j in range(X_train.shape[0]) :\n",
    "        distance = np.linalg.norm(X_train[j] - X_test[i]) \n",
    "        if(min_distance == -1 or min_distance > distance) :\n",
    "            min_distance = distance\n",
    "            label = Y_train[j]\n",
    "    predictions.append(label)\n"
   ]
  },
  {
   "cell_type": "code",
   "execution_count": 102,
   "metadata": {},
   "outputs": [
    {
     "data": {
      "text/plain": [
       "[1, 1, 6, 3, 2, 3, 3, 3, 4, 5, 5, 4, 5, 4, 6, 7, 7, 8, 9, 10]"
      ]
     },
     "execution_count": 102,
     "metadata": {},
     "output_type": "execute_result"
    }
   ],
   "source": [
    "predictions"
   ]
  },
  {
   "cell_type": "code",
   "execution_count": 103,
   "metadata": {},
   "outputs": [
    {
     "data": {
      "text/plain": [
       "array([ 1,  1,  2,  2,  2,  3,  3,  3,  4,  5,  5,  5,  5,  5,  6,  7,  7,\n",
       "        8,  9, 10])"
      ]
     },
     "execution_count": 103,
     "metadata": {},
     "output_type": "execute_result"
    }
   ],
   "source": [
    "Y_test"
   ]
  },
  {
   "cell_type": "code",
   "execution_count": 104,
   "metadata": {},
   "outputs": [
    {
     "name": "stdout",
     "output_type": "stream",
     "text": [
      "actual: Arpit , predictions: Arpit\n",
      "actual: Arpit , predictions: Arpit\n",
      "actual: Divyansh , predictions: Saumya\n",
      "actual: Divyansh , predictions: Ishan\n",
      "actual: Divyansh , predictions: Divyansh\n",
      "actual: Ishan , predictions: Ishan\n",
      "actual: Ishan , predictions: Ishan\n",
      "actual: Ishan , predictions: Ishan\n",
      "actual: Ishita , predictions: Ishita\n",
      "actual: Ritik , predictions: Ritik\n",
      "actual: Ritik , predictions: Ritik\n",
      "actual: Ritik , predictions: Ishita\n",
      "actual: Ritik , predictions: Ritik\n",
      "actual: Ritik , predictions: Ishita\n",
      "actual: Saumya , predictions: Saumya\n",
      "actual: shantam , predictions: shantam\n",
      "actual: shantam , predictions: shantam\n",
      "actual: shashwat , predictions: shashwat\n",
      "actual: Shivansh , predictions: Shivansh\n",
      "actual: yash , predictions: yash\n"
     ]
    }
   ],
   "source": [
    "#actual v/s prediction\n",
    "for i in range(X_test.shape[0]):\n",
    "    print(\"actual: \" +Yname[Y_test[i]] +\" , predictions: \" + Yname[predictions[i]])"
   ]
  },
  {
   "cell_type": "code",
   "execution_count": 105,
   "metadata": {},
   "outputs": [
    {
     "name": "stdout",
     "output_type": "stream",
     "text": [
      "correct Predictions:  16  Out of:  20\n",
      "percentage accuracy:  80.0\n"
     ]
    }
   ],
   "source": [
    "correct=0\n",
    "for i in range(X_test.shape[0]):\n",
    "    if predictions[i]==Y_test[i]:\n",
    "        correct+=1\n",
    "print(\"correct Predictions: \" ,(correct) , \" Out of: \",(X_test.shape[0]))\n",
    "print(\"percentage accuracy: \", (correct / X_test.shape[0]) * 100)"
   ]
  },
  {
   "cell_type": "code",
   "execution_count": null,
   "metadata": {},
   "outputs": [],
   "source": []
  }
 ],
 "metadata": {
  "kernelspec": {
   "display_name": "Python 3",
   "language": "python",
   "name": "python3"
  },
  "language_info": {
   "codemirror_mode": {
    "name": "ipython",
    "version": 3
   },
   "file_extension": ".py",
   "mimetype": "text/x-python",
   "name": "python",
   "nbconvert_exporter": "python",
   "pygments_lexer": "ipython3",
   "version": "3.7.4"
  }
 },
 "nbformat": 4,
 "nbformat_minor": 2
}
